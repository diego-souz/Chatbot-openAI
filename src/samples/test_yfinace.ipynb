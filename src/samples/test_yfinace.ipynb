{
 "cells": [
  {
   "cell_type": "code",
   "execution_count": 1,
   "id": "f6d3da8b",
   "metadata": {},
   "outputs": [],
   "source": [
    "import yfinance as yf"
   ]
  },
  {
   "cell_type": "code",
   "execution_count": 5,
   "id": "55c3f7d9",
   "metadata": {},
   "outputs": [],
   "source": [
    "ticker = \"BBAS3\"\n",
    "period = \"5d\"\n",
    "ticker_obj = yf.Ticker(f\"{ticker}.SA\")"
   ]
  },
  {
   "cell_type": "code",
   "execution_count": 6,
   "id": "2e267385",
   "metadata": {},
   "outputs": [
    {
     "data": {
      "text/html": [
       "<div>\n",
       "<style scoped>\n",
       "    .dataframe tbody tr th:only-of-type {\n",
       "        vertical-align: middle;\n",
       "    }\n",
       "\n",
       "    .dataframe tbody tr th {\n",
       "        vertical-align: top;\n",
       "    }\n",
       "\n",
       "    .dataframe thead th {\n",
       "        text-align: right;\n",
       "    }\n",
       "</style>\n",
       "<table border=\"1\" class=\"dataframe\">\n",
       "  <thead>\n",
       "    <tr style=\"text-align: right;\">\n",
       "      <th></th>\n",
       "      <th>Open</th>\n",
       "      <th>High</th>\n",
       "      <th>Low</th>\n",
       "      <th>Close</th>\n",
       "      <th>Volume</th>\n",
       "      <th>Dividends</th>\n",
       "      <th>Stock Splits</th>\n",
       "    </tr>\n",
       "    <tr>\n",
       "      <th>Date</th>\n",
       "      <th></th>\n",
       "      <th></th>\n",
       "      <th></th>\n",
       "      <th></th>\n",
       "      <th></th>\n",
       "      <th></th>\n",
       "      <th></th>\n",
       "    </tr>\n",
       "  </thead>\n",
       "  <tbody>\n",
       "    <tr>\n",
       "      <th>2025-04-11 00:00:00-03:00</th>\n",
       "      <td>27.730000</td>\n",
       "      <td>27.900000</td>\n",
       "      <td>27.420000</td>\n",
       "      <td>27.799999</td>\n",
       "      <td>14793700</td>\n",
       "      <td>0.0</td>\n",
       "      <td>0.0</td>\n",
       "    </tr>\n",
       "    <tr>\n",
       "      <th>2025-04-14 00:00:00-03:00</th>\n",
       "      <td>27.969999</td>\n",
       "      <td>28.209999</td>\n",
       "      <td>27.870001</td>\n",
       "      <td>28.070000</td>\n",
       "      <td>13391400</td>\n",
       "      <td>0.0</td>\n",
       "      <td>0.0</td>\n",
       "    </tr>\n",
       "    <tr>\n",
       "      <th>2025-04-15 00:00:00-03:00</th>\n",
       "      <td>28.030001</td>\n",
       "      <td>28.120001</td>\n",
       "      <td>27.700001</td>\n",
       "      <td>27.770000</td>\n",
       "      <td>25468600</td>\n",
       "      <td>0.0</td>\n",
       "      <td>0.0</td>\n",
       "    </tr>\n",
       "    <tr>\n",
       "      <th>2025-04-16 00:00:00-03:00</th>\n",
       "      <td>27.780001</td>\n",
       "      <td>27.889999</td>\n",
       "      <td>27.379999</td>\n",
       "      <td>27.650000</td>\n",
       "      <td>21762700</td>\n",
       "      <td>0.0</td>\n",
       "      <td>0.0</td>\n",
       "    </tr>\n",
       "    <tr>\n",
       "      <th>2025-04-17 00:00:00-03:00</th>\n",
       "      <td>27.680000</td>\n",
       "      <td>27.780001</td>\n",
       "      <td>27.299999</td>\n",
       "      <td>27.430000</td>\n",
       "      <td>17336900</td>\n",
       "      <td>0.0</td>\n",
       "      <td>0.0</td>\n",
       "    </tr>\n",
       "  </tbody>\n",
       "</table>\n",
       "</div>"
      ],
      "text/plain": [
       "                                Open       High        Low      Close  \\\n",
       "Date                                                                    \n",
       "2025-04-11 00:00:00-03:00  27.730000  27.900000  27.420000  27.799999   \n",
       "2025-04-14 00:00:00-03:00  27.969999  28.209999  27.870001  28.070000   \n",
       "2025-04-15 00:00:00-03:00  28.030001  28.120001  27.700001  27.770000   \n",
       "2025-04-16 00:00:00-03:00  27.780001  27.889999  27.379999  27.650000   \n",
       "2025-04-17 00:00:00-03:00  27.680000  27.780001  27.299999  27.430000   \n",
       "\n",
       "                             Volume  Dividends  Stock Splits  \n",
       "Date                                                          \n",
       "2025-04-11 00:00:00-03:00  14793700        0.0           0.0  \n",
       "2025-04-14 00:00:00-03:00  13391400        0.0           0.0  \n",
       "2025-04-15 00:00:00-03:00  25468600        0.0           0.0  \n",
       "2025-04-16 00:00:00-03:00  21762700        0.0           0.0  \n",
       "2025-04-17 00:00:00-03:00  17336900        0.0           0.0  "
      ]
     },
     "execution_count": 6,
     "metadata": {},
     "output_type": "execute_result"
    }
   ],
   "source": [
    "ticker_obj.history(period=period)"
   ]
  },
  {
   "cell_type": "code",
   "execution_count": 9,
   "id": "c334c835",
   "metadata": {},
   "outputs": [],
   "source": [
    "def get_ticker_data(ticker, period):\n",
    "    ticker_obj = yf.Ticker(f\"{ticker}.SA\")\n",
    "    hist = ticker_obj.history(period=period)[\"Close\"]\n",
    "    hist.index = hist.index.strftime(\"%Y-%m-%d\")\n",
    "    hist = round(hist, 2)\n",
    "    #Limitar em 30 resultados\n",
    "    if len(hist) > 30:\n",
    "        slice_size = int(len(hist) / 30)\n",
    "        hist = hist.iloc[::slice_size][::-1]\n",
    "\n",
    "    return hist.to_json()"
   ]
  },
  {
   "cell_type": "code",
   "execution_count": 10,
   "id": "ccc24ec8",
   "metadata": {},
   "outputs": [
    {
     "data": {
      "text/plain": [
       "'{\"2025-04-14\":28.07,\"2025-04-02\":28.35,\"2025-03-21\":28.37,\"2025-03-11\":27.72,\"2025-02-25\":28.23,\"2025-02-13\":27.45,\"2025-02-03\":27.61,\"2025-01-22\":26.13,\"2025-01-10\":24.21,\"2024-12-27\":24.11,\"2024-12-13\":24.51,\"2024-12-03\":24.7,\"2024-11-21\":24.61,\"2024-11-07\":25.52,\"2024-10-28\":25.65,\"2024-10-16\":26.08,\"2024-10-04\":26.17,\"2024-09-24\":26.68,\"2024-09-12\":27.51,\"2024-09-02\":27.51,\"2024-08-21\":28.2,\"2024-08-09\":25.7,\"2024-07-30\":26.09,\"2024-07-18\":26.32,\"2024-07-08\":25.45,\"2024-06-26\":25.86,\"2024-06-14\":25.61,\"2024-06-04\":25.72,\"2024-05-22\":25.98,\"2024-05-10\":26.09,\"2024-04-29\":26.03,\"2024-04-17\":26.42}'"
      ]
     },
     "execution_count": 10,
     "metadata": {},
     "output_type": "execute_result"
    }
   ],
   "source": [
    "hist = get_ticker_data(ticker, \"1y\")\n",
    "hist"
   ]
  }
 ],
 "metadata": {
  "kernelspec": {
   "display_name": ".venv",
   "language": "python",
   "name": "python3"
  },
  "language_info": {
   "codemirror_mode": {
    "name": "ipython",
    "version": 3
   },
   "file_extension": ".py",
   "mimetype": "text/x-python",
   "name": "python",
   "nbconvert_exporter": "python",
   "pygments_lexer": "ipython3",
   "version": "3.12.7"
  }
 },
 "nbformat": 4,
 "nbformat_minor": 5
}

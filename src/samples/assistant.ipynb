{
 "cells": [
  {
   "cell_type": "code",
   "execution_count": 1,
   "metadata": {},
   "outputs": [],
   "source": [
    "import openai\n"
   ]
  },
  {
   "cell_type": "code",
   "execution_count": 2,
   "metadata": {},
   "outputs": [],
   "source": [
    "client = openai.Client()\n"
   ]
  },
  {
   "cell_type": "code",
   "execution_count": 3,
   "metadata": {},
   "outputs": [],
   "source": [
    "assistant = client.beta.assistants.create(\n",
    "    name=\"Tutor de Tecnologia\",\n",
    "    instructions=\"Você é um tutor sobre assuntos relacionados a tecnologia\",\n",
    "    tools=[{\"type\":\"code_interpreter\"}],\n",
    "    model=\"gpt-3.5-turbo-0125\"\n",
    ")\n"
   ]
  },
  {
   "cell_type": "code",
   "execution_count": 5,
   "metadata": {},
   "outputs": [],
   "source": [
    "pergunta = \"\"\"\n",
    " Em um sistema de cache com mapeamento direto, dado uma memória principal de uma cache\n",
    " de 256 KB e blocos de 64 bytes:\n",
    " - Quantas linhas existem na cache?\n",
    " - Onde o bloco de endereço 0x1A23C será mapeado na cache?\n",
    "\"\"\"\n"
   ]
  },
  {
   "cell_type": "code",
   "execution_count": 6,
   "metadata": {},
   "outputs": [],
   "source": [
    "# Criação da Thread\n",
    "thread = client.beta.threads.create()\n",
    "message = client.beta.threads.messages.create(\n",
    "    thread_id=thread.id,\n",
    "    role=\"user\",\n",
    "    content=pergunta\n",
    ")\n"
   ]
  },
  {
   "cell_type": "code",
   "execution_count": 7,
   "metadata": {},
   "outputs": [],
   "source": [
    "# Executa a thread\n",
    "run = client.beta.threads.runs.create(\n",
    "    thread_id=thread.id,\n",
    "    assistant_id=assistant.id,\n",
    "    instructions=\"Nome de usuário premium\"\n",
    ")\n"
   ]
  },
  {
   "cell_type": "code",
   "execution_count": 8,
   "metadata": {},
   "outputs": [
    {
     "data": {
      "text/plain": [
       "'queued'"
      ]
     },
     "execution_count": 8,
     "metadata": {},
     "output_type": "execute_result"
    }
   ],
   "source": [
    "run.status\n"
   ]
  },
  {
   "cell_type": "code",
   "execution_count": 9,
   "metadata": {},
   "outputs": [],
   "source": [
    "# Aguarda a thread rodar\n",
    "import time\n",
    "while run.status in [\"queued\", \"in_progress\", \"cancelling\"]:\n",
    "    time.sleep(1)\n",
    "    run = client.beta.threads.runs.retrieve(\n",
    "        thread_id=thread.id,\n",
    "        run_id=run.id\n",
    "    )\n"
   ]
  },
  {
   "cell_type": "code",
   "execution_count": 10,
   "metadata": {},
   "outputs": [
    {
     "name": "stdout",
     "output_type": "stream",
     "text": [
      "SyncCursorPage[Message](data=[Message(id='msg_cPGFand8FFRcK9DgEJ31Kr6X', assistant_id='asst_u8KcwgMDaOhR8WWoH8mTMbwy', attachments=[], completed_at=None, content=[TextContentBlock(text=Text(annotations=[], value='O bloco de endereço 0x1A23C será mapeado na linha 1672 da cache.\\n\\nPortanto, para um sistema de cache com mapeamento direto com uma cache de 256 KB e blocos de 64 bytes, temos:\\n- 4096 linhas na cache\\n- O bloco de endereço 0x1A23C será mapeado na linha 1672 da cache.'), type='text')], created_at=1745279376, incomplete_at=None, incomplete_details=None, metadata={}, object='thread.message', role='assistant', run_id='run_9lmT4xdyIvqfXWHGAsf4eTTJ', status=None, thread_id='thread_81JCfaUM3pbTwTP9MbjOkLuV'), Message(id='msg_Cb5byKYoR9WpVpouHxLj6knm', assistant_id='asst_u8KcwgMDaOhR8WWoH8mTMbwy', attachments=[], completed_at=None, content=[TextContentBlock(text=Text(annotations=[], value='O número de linhas na cache é de 4096.\\n\\nAgora, para determinar onde o bloco de endereço 0x1A23C será mapeado na cache, precisamos considerar a política de mapeamento direto. \\n\\nNa política de mapeamento direto, o bloco de endereço é mapeado para uma linha específica da cache com base nos bits do endereço. \\n\\nVamos calcular em qual linha da cache o bloco de endereço 0x1A23C será mapeado:'), type='text')], created_at=1745279372, incomplete_at=None, incomplete_details=None, metadata={}, object='thread.message', role='assistant', run_id='run_9lmT4xdyIvqfXWHGAsf4eTTJ', status=None, thread_id='thread_81JCfaUM3pbTwTP9MbjOkLuV'), Message(id='msg_CzX1UbcRbVib7pF3H7tdJyVX', assistant_id='asst_u8KcwgMDaOhR8WWoH8mTMbwy', attachments=[], completed_at=None, content=[TextContentBlock(text=Text(annotations=[], value='Para um sistema de cache com mapeamento direto, precisamos calcular o número de linhas na cache e determinar onde um determinado bloco de endereço será mapeado na cache.\\n\\nDado:\\n- Tamanho da cache = 256 KB = 256 * 1024 bytes\\n- Tamanho do bloco = 64 bytes\\n\\nVamos primeiro calcular o número de linhas na cache. Isso pode ser feito dividindo o tamanho da cache pelo tamanho do bloco. Em seguida, calcularemos onde o bloco de endereço 0x1A23C será mapeado na cache.\\n\\nVamos realizar esses cálculos:'), type='text')], created_at=1745279368, incomplete_at=None, incomplete_details=None, metadata={}, object='thread.message', role='assistant', run_id='run_9lmT4xdyIvqfXWHGAsf4eTTJ', status=None, thread_id='thread_81JCfaUM3pbTwTP9MbjOkLuV'), Message(id='msg_mMp0K4ULpxD3thHIA3e1vnEz', assistant_id=None, attachments=[], completed_at=None, content=[TextContentBlock(text=Text(annotations=[], value='\\n Em um sistema de cache com mapeamento direto, dado uma memória principal de uma cache\\n de 256 KB e blocos de 64 bytes:\\n - Quantas linhas existem na cache?\\n - Onde o bloco de endereço 0x1A23C será mapeado na cache?\\n'), type='text')], created_at=1745279363, incomplete_at=None, incomplete_details=None, metadata={}, object='thread.message', role='user', run_id=None, status=None, thread_id='thread_81JCfaUM3pbTwTP9MbjOkLuV')], has_more=False, object='list', first_id='msg_cPGFand8FFRcK9DgEJ31Kr6X', last_id='msg_mMp0K4ULpxD3thHIA3e1vnEz')\n"
     ]
    }
   ],
   "source": [
    "# Verifica a resposta\n",
    "if run.status == \"completed\":\n",
    "    mensagens = client.beta.threads.messages.list(\n",
    "        thread_id=thread.id\n",
    "    )\n",
    "    print(mensagens)\n",
    "else:\n",
    "    print(f\"Erro {run.status}\")\n"
   ]
  },
  {
   "cell_type": "code",
   "execution_count": 11,
   "metadata": {},
   "outputs": [
    {
     "name": "stdout",
     "output_type": "stream",
     "text": [
      "O bloco de endereço 0x1A23C será mapeado na linha 1672 da cache.\n",
      "\n",
      "Portanto, para um sistema de cache com mapeamento direto com uma cache de 256 KB e blocos de 64 bytes, temos:\n",
      "- 4096 linhas na cache\n",
      "- O bloco de endereço 0x1A23C será mapeado na linha 1672 da cache.\n"
     ]
    }
   ],
   "source": [
    "print(mensagens.data[0].content[0].text.value)\n"
   ]
  },
  {
   "cell_type": "code",
   "execution_count": 12,
   "metadata": {},
   "outputs": [],
   "source": [
    "# Analisando os passos do modelo\n",
    "run_steps = client.beta.threads.runs.steps.list(\n",
    "    thread_id=thread.id,\n",
    "    run_id=run.id\n",
    ")\n"
   ]
  },
  {
   "cell_type": "code",
   "execution_count": 13,
   "metadata": {},
   "outputs": [
    {
     "name": "stdout",
     "output_type": "stream",
     "text": [
      "\n",
      "====Step message_creation\n",
      "Para um sistema de cache com mapeamento direto, precisamos calcular o número de linhas na cache e determinar onde um determinado bloco de endereço será mapeado na cache.\n",
      "\n",
      "Dado:\n",
      "- Tamanho da cache = 256 KB = 256 * 1024 bytes\n",
      "- Tamanho do bloco = 64 bytes\n",
      "\n",
      "Vamos primeiro calcular o número de linhas na cache. Isso pode ser feito dividindo o tamanho da cache pelo tamanho do bloco. Em seguida, calcularemos onde o bloco de endereço 0x1A23C será mapeado na cache.\n",
      "\n",
      "Vamos realizar esses cálculos:\n",
      "\n",
      "====Step tool_calls\n",
      "==========\n",
      "# Tamanho da cache em bytes\n",
      "tamanho_cache_bytes = 256 * 1024 \n",
      "\n",
      "# Tamanho do bloco em bytes\n",
      "tamanho_bloco_bytes = 64\n",
      "\n",
      "# Calculando o número de linhas na cache\n",
      "numero_linhas_cache = tamanho_cache_bytes / tamanho_bloco_bytes\n",
      "\n",
      "numero_linhas_cache\n",
      "==========\n",
      "\n",
      "====Step message_creation\n",
      "O número de linhas na cache é de 4096.\n",
      "\n",
      "Agora, para determinar onde o bloco de endereço 0x1A23C será mapeado na cache, precisamos considerar a política de mapeamento direto. \n",
      "\n",
      "Na política de mapeamento direto, o bloco de endereço é mapeado para uma linha específica da cache com base nos bits do endereço. \n",
      "\n",
      "Vamos calcular em qual linha da cache o bloco de endereço 0x1A23C será mapeado:\n",
      "\n",
      "====Step tool_calls\n",
      "==========\n",
      "import math\n",
      "\n",
      "# Endereço do bloco 0x1A23C em decimal\n",
      "endereco_bloco = 0x1A23C\n",
      "\n",
      "# Número de blocos na cache\n",
      "numero_blocos_cache = tamanho_cache_bytes / tamanho_bloco_bytes\n",
      "\n",
      "# Calculando o número de bits para representar o número de blocos\n",
      "num_bits_linhas_cache = int(math.log2(numero_linhas_cache))\n",
      "\n",
      "# Calculando o número de bits para representar o tamanho do bloco\n",
      "num_bits_tamanho_bloco = int(math.log2(tamanho_bloco_bytes))\n",
      "\n",
      "# Extraindo os bits relevantes do endereço para obter o índice da linha na cache\n",
      "indice_linha_cache = (endereco_bloco >> num_bits_tamanho_bloco) % numero_linhas_cache\n",
      "\n",
      "indice_linha_cache\n",
      "==========\n",
      "\n",
      "====Step message_creation\n",
      "O bloco de endereço 0x1A23C será mapeado na linha 1672 da cache.\n",
      "\n",
      "Portanto, para um sistema de cache com mapeamento direto com uma cache de 256 KB e blocos de 64 bytes, temos:\n",
      "- 4096 linhas na cache\n",
      "- O bloco de endereço 0x1A23C será mapeado na linha 1672 da cache.\n"
     ]
    }
   ],
   "source": [
    "for step in run_steps.data[::-1]:\n",
    "    print(f\"\\n====Step {step.step_details.type}\")\n",
    "    if step.step_details.type == \"tool_calls\":\n",
    "        for tool_call in step.step_details.tool_calls:\n",
    "            print(\"=\" *10)\n",
    "            print(tool_call.code_interpreter.input)\n",
    "            print(\"=\"*10)\n",
    "    if step.step_details.type == \"message_creation\":\n",
    "        message = client.beta.threads.messages.retrieve(\n",
    "            thread_id=thread.id,\n",
    "            message_id=step.step_details.message_creation.message_id\n",
    "        )\n",
    "        \n",
    "        print(message.content[0].text.value)\n"
   ]
  }
 ],
 "metadata": {
  "kernelspec": {
   "display_name": ".venv",
   "language": "python",
   "name": "python3"
  },
  "language_info": {
   "codemirror_mode": {
    "name": "ipython",
    "version": 3
   },
   "file_extension": ".py",
   "mimetype": "text/x-python",
   "name": "python",
   "nbconvert_exporter": "python",
   "pygments_lexer": "ipython3",
   "version": "3.12.7"
  }
 },
 "nbformat": 4,
 "nbformat_minor": 2
}

{
 "cells": [
  {
   "cell_type": "code",
   "execution_count": 1,
   "id": "c0b37f55",
   "metadata": {},
   "outputs": [],
   "source": [
    "import json\n",
    "import openai"
   ]
  },
  {
   "cell_type": "code",
   "execution_count": 2,
   "id": "2d490057",
   "metadata": {},
   "outputs": [],
   "source": [
    "client = openai.Client()"
   ]
  },
  {
   "cell_type": "code",
   "execution_count": 3,
   "id": "f5a22688",
   "metadata": {},
   "outputs": [],
   "source": [
    "def saudation_by_hours(hours):\n",
    "    if 5 <= hours < 12:\n",
    "        return json.dumps({\"Saudação\":\"Bom dia!\"})\n",
    "    elif 12 <= hours < 18:\n",
    "        return json.dumps({\"Saudação\":\"Boa tarde!\"})\n",
    "    else:\n",
    "        return json.dumps({\"Saudação\":\"Boa noite!\"})\n"
   ]
  },
  {
   "cell_type": "code",
   "execution_count": 4,
   "id": "819ea29a",
   "metadata": {},
   "outputs": [],
   "source": [
    "tools = [\n",
    "    {\n",
    "        \"type\": \"function\",\n",
    "        \"function\": {\n",
    "            \"name\": \"saudation_by_hours\",\n",
    "            \"description\": \"Retorna uma saudação dependendo da hora do dia.\",\n",
    "            \"parameters\": {\n",
    "                \"type\": \"object\",\n",
    "                \"properties\": {\n",
    "                    \"hours\": {\n",
    "                        \"type\": \"integer\",\n",
    "                        \"description\": \"Hora do dia em formato 24h)\"\n",
    "                    }\n",
    "                },\n",
    "                \"required\": [\"hours\"]\n",
    "            }\n",
    "        }\n",
    "\n",
    "    }\n",
    "]"
   ]
  },
  {
   "cell_type": "code",
   "execution_count": 5,
   "id": "551b3d32",
   "metadata": {},
   "outputs": [],
   "source": [
    "function1 = {\n",
    "    \"saudation_by_hours\": saudation_by_hours\n",
    "}"
   ]
  },
  {
   "cell_type": "code",
   "execution_count": 6,
   "id": "12e21c6a",
   "metadata": {},
   "outputs": [],
   "source": [
    "message = [{\"role\": \"user\", \"content\": \"Qual a saudação para 10h?\"}]\n",
    "response = client.chat.completions.create(\n",
    "    model=\"gpt-3.5-turbo-0125\",\n",
    "    messages=message,\n",
    "    tools=tools,\n",
    "    tool_choice=\"auto\"\n",
    ")"
   ]
  },
  {
   "cell_type": "code",
   "execution_count": 7,
   "id": "ca68925f",
   "metadata": {},
   "outputs": [
    {
     "data": {
      "text/plain": [
       "ChatCompletionMessage(content=None, refusal=None, role='assistant', annotations=[], audio=None, function_call=None, tool_calls=[ChatCompletionMessageToolCall(id='call_wsnmvwk2ZaqjPYPoEACEunnM', function=Function(arguments='{\"hours\":10}', name='saudation_by_hours'), type='function')])"
      ]
     },
     "execution_count": 7,
     "metadata": {},
     "output_type": "execute_result"
    }
   ],
   "source": [
    "message_reply = response.choices[0].message\n",
    "message_reply"
   ]
  },
  {
   "cell_type": "code",
   "execution_count": 8,
   "id": "e57d074d",
   "metadata": {},
   "outputs": [
    {
     "data": {
      "text/plain": [
       "[ChatCompletionMessageToolCall(id='call_wsnmvwk2ZaqjPYPoEACEunnM', function=Function(arguments='{\"hours\":10}', name='saudation_by_hours'), type='function')]"
      ]
     },
     "execution_count": 8,
     "metadata": {},
     "output_type": "execute_result"
    }
   ],
   "source": [
    "tool_calls = message_reply.tool_calls\n",
    "tool_calls\n"
   ]
  },
  {
   "cell_type": "code",
   "execution_count": 9,
   "id": "778e7358",
   "metadata": {},
   "outputs": [
    {
     "data": {
      "text/plain": [
       "ChatCompletionMessage(content='A saudação para às 10h é: \"Bom dia!\"', refusal=None, role='assistant', annotations=[], audio=None, function_call=None, tool_calls=None)"
      ]
     },
     "execution_count": 9,
     "metadata": {},
     "output_type": "execute_result"
    }
   ],
   "source": [
    "if tool_calls:\n",
    "    message.append(message_reply)\n",
    "    for tool_call in tool_calls:\n",
    "        function_name = tool_call.function.name\n",
    "        function_to_call = function1[function_name]\n",
    "        function_args = json.loads(tool_call.function.arguments)\n",
    "        function_response = function_to_call(\n",
    "            hours = function_args.get(\"hours\")\n",
    "        )\n",
    "\n",
    "        message.append(\n",
    "            {\n",
    "            \"tool_call_id\": tool_call.id,\n",
    "            \"role\": \"tool\",\n",
    "            \"name\": function_name,\n",
    "            \"content\": function_response\n",
    "            }\n",
    "        )\n",
    "\n",
    "    segunda_resposta = client.chat.completions.create(\n",
    "        model=\"gpt-3.5-turbo-0125\",\n",
    "        messages = message\n",
    "    )\n",
    "    \n",
    "\n",
    "mensagem_resposta = segunda_resposta.choices[0].message\n",
    "mensagem_resposta"
   ]
  }
 ],
 "metadata": {
  "kernelspec": {
   "display_name": ".venv",
   "language": "python",
   "name": "python3"
  },
  "language_info": {
   "codemirror_mode": {
    "name": "ipython",
    "version": 3
   },
   "file_extension": ".py",
   "mimetype": "text/x-python",
   "name": "python",
   "nbconvert_exporter": "python",
   "pygments_lexer": "ipython3",
   "version": "3.12.7"
  }
 },
 "nbformat": 4,
 "nbformat_minor": 5
}

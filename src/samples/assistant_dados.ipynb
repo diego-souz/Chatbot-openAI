{
 "cells": [
  {
   "cell_type": "code",
   "execution_count": 83,
   "metadata": {},
   "outputs": [],
   "source": [
    "import openai\n",
    "import pandas as pd\n"
   ]
  },
  {
   "cell_type": "code",
   "execution_count": 84,
   "metadata": {},
   "outputs": [],
   "source": [
    "client = openai.Client()\n"
   ]
  },
  {
   "cell_type": "code",
   "execution_count": 85,
   "metadata": {},
   "outputs": [],
   "source": [
    "file = client.files.create(\n",
    "    file=open(\"sales_data.csv\", \"rb\"),\n",
    "    purpose=\"assistants\"\n",
    ")\n"
   ]
  },
  {
   "cell_type": "code",
   "execution_count": 86,
   "metadata": {},
   "outputs": [
    {
     "name": "stdout",
     "output_type": "stream",
     "text": [
      "file-Po5Fs5df2nRyB7LEMYdtAd\n"
     ]
    }
   ],
   "source": [
    "print(file.id)\n"
   ]
  },
  {
   "cell_type": "code",
   "execution_count": 87,
   "metadata": {},
   "outputs": [],
   "source": [
    "assistant = client.beta.assistants.create(\n",
    "    name=\"Analista de Dados\",\n",
    "    instructions=\"Você é um analista que analisa dados sobre vendas\",\n",
    "    tools=[{\"type\":\"code_interpreter\"}],\n",
    "    tool_resources={\"code_interpreter\":{\"file_ids\":[file.id]}},\n",
    "    model=\"gpt-4o\"\n",
    ")\n"
   ]
  },
  {
   "cell_type": "code",
   "execution_count": 88,
   "metadata": {},
   "outputs": [],
   "source": [
    "#pergunta = \"Qual o rating médio das vendas do supermercado\"\n",
    "pergunta = \"Gere um gráfico de pizza com o percentual de vendas por linha de produto\"\n"
   ]
  },
  {
   "cell_type": "code",
   "execution_count": 89,
   "metadata": {},
   "outputs": [],
   "source": [
    "# Criação da Thread\n",
    "thread = client.beta.threads.create()\n",
    "message = client.beta.threads.messages.create(\n",
    "    thread_id=thread.id,\n",
    "    role=\"user\",\n",
    "    content=pergunta\n",
    ")\n"
   ]
  },
  {
   "cell_type": "code",
   "execution_count": 90,
   "metadata": {},
   "outputs": [],
   "source": [
    "# Executa a thread\n",
    "run = client.beta.threads.runs.create(\n",
    "    thread_id=thread.id,\n",
    "    assistant_id=assistant.id,\n",
    "    instructions=\"Nome de usuário premium\"\n",
    ")\n"
   ]
  },
  {
   "cell_type": "code",
   "execution_count": 91,
   "metadata": {},
   "outputs": [],
   "source": [
    "# Aguarda a thread rodar\n",
    "import time\n",
    "while run.status in [\"queued\", \"in_progress\", \"cancelling\"]:\n",
    "    time.sleep(1)\n",
    "    run = client.beta.threads.runs.retrieve(\n",
    "        thread_id=thread.id,\n",
    "        run_id=run.id\n",
    "    )\n"
   ]
  },
  {
   "cell_type": "code",
   "execution_count": 92,
   "metadata": {},
   "outputs": [
    {
     "name": "stdout",
     "output_type": "stream",
     "text": [
      "SyncCursorPage[Message](data=[Message(id='msg_kLqztrphX8UvOzOd8ju68YjU', assistant_id='asst_KqyDw50tqrWb2457gO520Ydg', attachments=[], completed_at=None, content=[ImageFileContentBlock(image_file=ImageFile(file_id='file-NxeGupFnShoQXjAe18uGb5', detail=None), type='image_file'), TextContentBlock(text=Text(annotations=[], value='Aqui está o gráfico de pizza mostrando o percentual de vendas por linha de produto. Cada fatia representa o percentual de vendas para uma linha de produto específica em relação ao total de vendas. Se precisar de mais alguma informação ou análise, por favor, me avise!'), type='text')], created_at=1745282168, incomplete_at=None, incomplete_details=None, metadata={}, object='thread.message', role='assistant', run_id='run_Ub5SnlcDtkfOKChvjw1ihymW', status=None, thread_id='thread_7AJucHWdVCNZaFyAqVv6J5KZ'), Message(id='msg_AWpBLCBe6SNi1TnKN8Y2Yu3g', assistant_id='asst_KqyDw50tqrWb2457gO520Ydg', attachments=[], completed_at=None, content=[TextContentBlock(text=Text(annotations=[], value='O arquivo contém dados de transações de vendas, incluindo uma coluna chamada \"Product line\", que representa as diferentes linhas de produtos, e uma coluna \"Total\", que representa o valor total das vendas para cada transação. Agora podemos calcular o percentual de vendas por linha de produto e criar um gráfico de pizza com esses dados. Vamos prosseguir com isso.'), type='text')], created_at=1745282161, incomplete_at=None, incomplete_details=None, metadata={}, object='thread.message', role='assistant', run_id='run_Ub5SnlcDtkfOKChvjw1ihymW', status=None, thread_id='thread_7AJucHWdVCNZaFyAqVv6J5KZ'), Message(id='msg_9Nl6wiCGzqkvqPRFtT2cqXHY', assistant_id='asst_KqyDw50tqrWb2457gO520Ydg', attachments=[], completed_at=None, content=[TextContentBlock(text=Text(annotations=[], value='Para gerar um gráfico de pizza com o percentual de vendas por linha de produto, primeiro precisamos examinar o conteúdo do arquivo enviado para entender sua estrutura. Vou fazer isso agora.'), type='text')], created_at=1745282156, incomplete_at=None, incomplete_details=None, metadata={}, object='thread.message', role='assistant', run_id='run_Ub5SnlcDtkfOKChvjw1ihymW', status=None, thread_id='thread_7AJucHWdVCNZaFyAqVv6J5KZ'), Message(id='msg_Te1YJSkAvV578cNh5PT8UgqR', assistant_id=None, attachments=[], completed_at=None, content=[TextContentBlock(text=Text(annotations=[], value='Gere um gráfico de pizza com o percentual de vendas por linha de produto'), type='text')], created_at=1745282154, incomplete_at=None, incomplete_details=None, metadata={}, object='thread.message', role='user', run_id=None, status=None, thread_id='thread_7AJucHWdVCNZaFyAqVv6J5KZ')], has_more=False, object='list', first_id='msg_kLqztrphX8UvOzOd8ju68YjU', last_id='msg_Te1YJSkAvV578cNh5PT8UgqR')\n"
     ]
    }
   ],
   "source": [
    "# Verifica a resposta\n",
    "if run.status == \"completed\":\n",
    "    mensagens = client.beta.threads.messages.list(\n",
    "        thread_id=thread.id\n",
    "    )\n",
    "    print(mensagens)\n",
    "else:\n",
    "    print(f\"Erro {run.status}\")\n"
   ]
  },
  {
   "cell_type": "code",
   "execution_count": 93,
   "metadata": {},
   "outputs": [],
   "source": [
    "#mensagens.data[0].content[0].text.value\n"
   ]
  },
  {
   "cell_type": "code",
   "execution_count": 94,
   "metadata": {},
   "outputs": [],
   "source": [
    "# Analisando os passos do modelo\n",
    "run_steps = client.beta.threads.runs.steps.list(\n",
    "    thread_id=thread.id,\n",
    "    run_id=run.id\n",
    ")\n"
   ]
  },
  {
   "cell_type": "code",
   "execution_count": 95,
   "metadata": {},
   "outputs": [
    {
     "name": "stdout",
     "output_type": "stream",
     "text": [
      "\n",
      "====Step message_creation\n",
      "Para gerar um gráfico de pizza com o percentual de vendas por linha de produto, primeiro precisamos examinar o conteúdo do arquivo enviado para entender sua estrutura. Vou fazer isso agora.\n",
      "\n",
      "====Step tool_calls\n",
      "==========\n",
      "import pandas as pd\n",
      "\n",
      "# Carregar o arquivo e exibir as primeiras linhas para entender sua estrutura\n",
      "file_path = '/mnt/data/file-Po5Fs5df2nRyB7LEMYdtAd'\n",
      "data = pd.read_csv(file_path)\n",
      "data.head()\n",
      "==========\n",
      "\n",
      "====Step message_creation\n",
      "O arquivo contém dados de transações de vendas, incluindo uma coluna chamada \"Product line\", que representa as diferentes linhas de produtos, e uma coluna \"Total\", que representa o valor total das vendas para cada transação. Agora podemos calcular o percentual de vendas por linha de produto e criar um gráfico de pizza com esses dados. Vamos prosseguir com isso.\n",
      "\n",
      "====Step tool_calls\n",
      "==========\n",
      "import matplotlib.pyplot as plt\n",
      "\n",
      "# Calcular o total de vendas por linha de produto\n",
      "sales_by_product_line = data.groupby('Product line')['Total'].sum()\n",
      "\n",
      "# Calcular o percentual de vendas para cada linha de produto\n",
      "sales_percentage = (sales_by_product_line / sales_by_product_line.sum()) * 100\n",
      "\n",
      "# Criar gráfico de pizza\n",
      "plt.figure(figsize=(8, 8))\n",
      "plt.pie(sales_percentage, labels=sales_by_product_line.index, autopct='%1.1f%%', startangle=140)\n",
      "plt.title('Percentual de Vendas por Linha de Produto')\n",
      "plt.show()\n",
      "==========\n",
      "\n",
      "====Step message_creation\n",
      "Imagem file-NxeGupFnShoQXjAe18uGb5 salva\n"
     ]
    }
   ],
   "source": [
    "for step in run_steps.data[::-1]:\n",
    "    print(f\"\\n====Step {step.step_details.type}\")\n",
    "    if step.step_details.type == \"tool_calls\":\n",
    "        for tool_call in step.step_details.tool_calls:\n",
    "            print(\"=\" *10)\n",
    "            print(tool_call.code_interpreter.input)\n",
    "            print(\"=\"*10)\n",
    "    if step.step_details.type == \"message_creation\":\n",
    "        message = client.beta.threads.messages.retrieve(\n",
    "            thread_id=thread.id,\n",
    "            message_id=step.step_details.message_creation.message_id\n",
    "        )\n",
    "        if message.content[0].type == \"text\":\n",
    "            print(message.content[0].text.value)\n",
    "        if message.content[0].type == \"image_file\":\n",
    "            file_id = message.content[0].image_file.file_id\n",
    "            image_data = client.files.content(file_id)\n",
    "            with open(f\"files/{file.id}.png\", \"wb\") as f:\n",
    "                f.write(image_data.read())\n",
    "                print(f\"Imagem {file_id} salva\")\n",
    "        \n",
    "        # print(message.content[0].text.value)\n"
   ]
  }
 ],
 "metadata": {
  "kernelspec": {
   "display_name": ".venv",
   "language": "python",
   "name": "python3"
  },
  "language_info": {
   "codemirror_mode": {
    "name": "ipython",
    "version": 3
   },
   "file_extension": ".py",
   "mimetype": "text/x-python",
   "name": "python",
   "nbconvert_exporter": "python",
   "pygments_lexer": "ipython3",
   "version": "3.12.7"
  }
 },
 "nbformat": 4,
 "nbformat_minor": 2
}

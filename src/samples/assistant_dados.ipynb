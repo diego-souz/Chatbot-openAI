{
 "cells": [
  {
   "cell_type": "code",
   "execution_count": null,
   "metadata": {},
   "outputs": [],
   "source": [
    "import openai\n",
    "import pandas as pd\n"
   ]
  },
  {
   "cell_type": "code",
   "execution_count": null,
   "metadata": {},
   "outputs": [],
   "source": [
    "client = openai.Client()\n"
   ]
  },
  {
   "cell_type": "code",
   "execution_count": null,
   "metadata": {},
   "outputs": [
    {
     "ename": "FileNotFoundError",
     "evalue": "[Errno 2] No such file or directory: '/src/samples/sales_data.csv'",
     "output_type": "error",
     "traceback": [
      "\u001b[31m---------------------------------------------------------------------------\u001b[39m",
      "\u001b[31mFileNotFoundError\u001b[39m                         Traceback (most recent call last)",
      "\u001b[36mCell\u001b[39m\u001b[36m \u001b[39m\u001b[32mIn[31]\u001b[39m\u001b[32m, line 2\u001b[39m\n\u001b[32m      1\u001b[39m file = client.files.create(\n\u001b[32m----> \u001b[39m\u001b[32m2\u001b[39m     file=\u001b[38;5;28;43mopen\u001b[39;49m\u001b[43m(\u001b[49m\u001b[33;43m\"\u001b[39;49m\u001b[33;43m/src/samples/sales_data.csv\u001b[39;49m\u001b[33;43m\"\u001b[39;49m\u001b[43m,\u001b[49m\u001b[43m \u001b[49m\u001b[33;43m\"\u001b[39;49m\u001b[33;43mrb\u001b[39;49m\u001b[33;43m\"\u001b[39;49m\u001b[43m)\u001b[49m,\n\u001b[32m      3\u001b[39m     purpose=\u001b[33m\"\u001b[39m\u001b[33massistants\u001b[39m\u001b[33m\"\u001b[39m\n\u001b[32m      4\u001b[39m )\n",
      "\u001b[36mFile \u001b[39m\u001b[32mc:\\Users\\Diego\\OneDrive\\Documentos\\Projetos\\Python\\IA\\openAI\\text_gen\\.venv\\Lib\\site-packages\\IPython\\core\\interactiveshell.py:326\u001b[39m, in \u001b[36m_modified_open\u001b[39m\u001b[34m(file, *args, **kwargs)\u001b[39m\n\u001b[32m    319\u001b[39m \u001b[38;5;28;01mif\u001b[39;00m file \u001b[38;5;129;01min\u001b[39;00m {\u001b[32m0\u001b[39m, \u001b[32m1\u001b[39m, \u001b[32m2\u001b[39m}:\n\u001b[32m    320\u001b[39m     \u001b[38;5;28;01mraise\u001b[39;00m \u001b[38;5;167;01mValueError\u001b[39;00m(\n\u001b[32m    321\u001b[39m         \u001b[33mf\u001b[39m\u001b[33m\"\u001b[39m\u001b[33mIPython won\u001b[39m\u001b[33m'\u001b[39m\u001b[33mt let you open fd=\u001b[39m\u001b[38;5;132;01m{\u001b[39;00mfile\u001b[38;5;132;01m}\u001b[39;00m\u001b[33m by default \u001b[39m\u001b[33m\"\u001b[39m\n\u001b[32m    322\u001b[39m         \u001b[33m\"\u001b[39m\u001b[33mas it is likely to crash IPython. If you know what you are doing, \u001b[39m\u001b[33m\"\u001b[39m\n\u001b[32m    323\u001b[39m         \u001b[33m\"\u001b[39m\u001b[33myou can use builtins\u001b[39m\u001b[33m'\u001b[39m\u001b[33m open.\u001b[39m\u001b[33m\"\u001b[39m\n\u001b[32m    324\u001b[39m     )\n\u001b[32m--> \u001b[39m\u001b[32m326\u001b[39m \u001b[38;5;28;01mreturn\u001b[39;00m \u001b[43mio_open\u001b[49m\u001b[43m(\u001b[49m\u001b[43mfile\u001b[49m\u001b[43m,\u001b[49m\u001b[43m \u001b[49m\u001b[43m*\u001b[49m\u001b[43margs\u001b[49m\u001b[43m,\u001b[49m\u001b[43m \u001b[49m\u001b[43m*\u001b[49m\u001b[43m*\u001b[49m\u001b[43mkwargs\u001b[49m\u001b[43m)\u001b[49m\n",
      "\u001b[31mFileNotFoundError\u001b[39m: [Errno 2] No such file or directory: '/src/samples/sales_data.csv'"
     ]
    }
   ],
   "source": [
    "file = client.files.create(\n",
    "    file=open(\"src/samples/sales_data.csv\", \"rb\"),\n",
    "    purpose=\"assistants\"\n",
    ")\n"
   ]
  },
  {
   "cell_type": "code",
   "execution_count": null,
   "metadata": {},
   "outputs": [
    {
     "name": "stdout",
     "output_type": "stream",
     "text": [
      "file-HrJ2GUJrmu8udhyAdwkqNG\n"
     ]
    }
   ],
   "source": [
    "print(file.id)\n"
   ]
  },
  {
   "cell_type": "code",
   "execution_count": null,
   "metadata": {},
   "outputs": [],
   "source": [
    "assistant = client.beta.assistants.create(\n",
    "    name=\"Analista de Dados\",\n",
    "    instructions=\"Você é um analista que analisa dados sobre vendas\",\n",
    "    tools=[{\"type\":\"code_interpreter\"}],\n",
    "    tool_resources={\"code_interpreter\":{\"file_ids\":[file.id]}},\n",
    "    model=\"gpt-4o\"\n",
    ")\n"
   ]
  },
  {
   "cell_type": "code",
   "execution_count": null,
   "metadata": {},
   "outputs": [],
   "source": [
    "# pergunta = \"Qual o rating médio das vendas do supermercado\"\n",
    "pergunta = \"Gere um gráfico de pizza com o percentual de vendas por linha de produto\"\n"
   ]
  },
  {
   "cell_type": "code",
   "execution_count": null,
   "metadata": {},
   "outputs": [],
   "source": [
    "# Criação da Thread\n",
    "thread = client.beta.threads.create()\n",
    "message = client.beta.threads.messages.create(\n",
    "    thread_id=thread.id,\n",
    "    role=\"user\",\n",
    "    content=pergunta\n",
    ")\n"
   ]
  },
  {
   "cell_type": "code",
   "execution_count": null,
   "metadata": {},
   "outputs": [],
   "source": [
    "# Executa a thread\n",
    "run = client.beta.threads.runs.create(\n",
    "    thread_id=thread.id,\n",
    "    assistant_id=assistant.id,\n",
    "    instructions=\"Nome de usuário premium\"\n",
    ")\n"
   ]
  },
  {
   "cell_type": "code",
   "execution_count": null,
   "metadata": {},
   "outputs": [],
   "source": [
    "# Aguarda a thread rodar\n",
    "import time\n",
    "while run.status in [\"queued\", \"in_progress\", \"cancelling\"]:\n",
    "    time.sleep(1)\n",
    "    run = client.beta.threads.runs.retrieve(\n",
    "        thread_id=thread.id,\n",
    "        run_id=run.id\n",
    "    )\n"
   ]
  },
  {
   "cell_type": "code",
   "execution_count": null,
   "metadata": {},
   "outputs": [
    {
     "name": "stdout",
     "output_type": "stream",
     "text": [
      "SyncCursorPage[Message](data=[Message(id='msg_BIwd18EaJ1Yrh8ozoAkWZ1qI', assistant_id='asst_kEXoysPcMokxwWh4omsP7vSe', attachments=[], completed_at=None, content=[TextContentBlock(text=Text(annotations=[], value='O arquivo parece estar vazio ou não contém dados no formato esperado. Você pode verificar se o arquivo enviado está correto ou tentar abri-lo para garantir que ele contém os dados necessários? Alternativamente, você pode tentar enviar o arquivo novamente.'), type='text')], created_at=1745280493, incomplete_at=None, incomplete_details=None, metadata={}, object='thread.message', role='assistant', run_id='run_JeM7TcLc566UwFP8jE5OpWh4', status=None, thread_id='thread_jpiOok7W6RhpgfnVHjXnYvGX'), Message(id='msg_kGZciHcfNfTcknI2h2Iv3ULk', assistant_id='asst_kEXoysPcMokxwWh4omsP7vSe', attachments=[], completed_at=None, content=[TextContentBlock(text=Text(annotations=[], value='Parece que houve um problema ao tentar ler o arquivo. Isso pode ter ocorrido porque o arquivo não está no formato Excel. Vou tentar abrir o arquivo como um arquivo CSV para verificar seu conteúdo. Vamos fazer isso agora.'), type='text')], created_at=1745280490, incomplete_at=None, incomplete_details=None, metadata={}, object='thread.message', role='assistant', run_id='run_JeM7TcLc566UwFP8jE5OpWh4', status=None, thread_id='thread_jpiOok7W6RhpgfnVHjXnYvGX'), Message(id='msg_DzAn0GjUONNWC2hKtB3Lt48t', assistant_id='asst_kEXoysPcMokxwWh4omsP7vSe', attachments=[], completed_at=None, content=[TextContentBlock(text=Text(annotations=[], value='Vamos começar analisando o arquivo que você enviou para entender quais dados ele contém. Depois disso, poderei gerar o gráfico de pizza com o percentual de vendas por linha de produto. Vou carregar e inspecionar os dados agora.'), type='text')], created_at=1745280486, incomplete_at=None, incomplete_details=None, metadata={}, object='thread.message', role='assistant', run_id='run_JeM7TcLc566UwFP8jE5OpWh4', status=None, thread_id='thread_jpiOok7W6RhpgfnVHjXnYvGX'), Message(id='msg_7wYLF67JS8fCWaClfUJCNwHf', assistant_id=None, attachments=[], completed_at=None, content=[TextContentBlock(text=Text(annotations=[], value='Gere um gráfico de pizza com o percentual de vendas por linha de produto'), type='text')], created_at=1745280483, incomplete_at=None, incomplete_details=None, metadata={}, object='thread.message', role='user', run_id=None, status=None, thread_id='thread_jpiOok7W6RhpgfnVHjXnYvGX')], has_more=False, object='list', first_id='msg_BIwd18EaJ1Yrh8ozoAkWZ1qI', last_id='msg_7wYLF67JS8fCWaClfUJCNwHf')\n"
     ]
    }
   ],
   "source": [
    "# Verifica a resposta\n",
    "if run.status == \"completed\":\n",
    "    mensagens = client.beta.threads.messages.list(\n",
    "        thread_id=thread.id\n",
    "    )\n",
    "    print(mensagens)\n",
    "else:\n",
    "    print(f\"Erro {run.status}\")\n"
   ]
  },
  {
   "cell_type": "code",
   "execution_count": null,
   "metadata": {},
   "outputs": [
    {
     "data": {
      "text/plain": [
       "'O arquivo parece estar vazio ou não contém dados no formato esperado. Você pode verificar se o arquivo enviado está correto ou tentar abri-lo para garantir que ele contém os dados necessários? Alternativamente, você pode tentar enviar o arquivo novamente.'"
      ]
     },
     "execution_count": 27,
     "metadata": {},
     "output_type": "execute_result"
    }
   ],
   "source": [
    "mensagens.data[0].content[0].text.value\n"
   ]
  },
  {
   "cell_type": "code",
   "execution_count": null,
   "metadata": {},
   "outputs": [],
   "source": [
    "# Analisando os passos do modelo\n",
    "run_steps = client.beta.threads.runs.steps.list(\n",
    "    thread_id=thread.id,\n",
    "    run_id=run.id\n",
    ")\n"
   ]
  },
  {
   "cell_type": "code",
   "execution_count": null,
   "metadata": {},
   "outputs": [
    {
     "name": "stdout",
     "output_type": "stream",
     "text": [
      "\n",
      "====Step message_creation\n",
      "Vamos começar analisando o arquivo que você enviou para entender quais dados ele contém. Depois disso, poderei gerar o gráfico de pizza com o percentual de vendas por linha de produto. Vou carregar e inspecionar os dados agora.\n",
      "\n",
      "====Step tool_calls\n",
      "==========\n",
      "# Importing necessary libraries\n",
      "import pandas as pd\n",
      "\n",
      "# Loading the uploaded file to inspect its contents\n",
      "file_path = '/mnt/data/file-HrJ2GUJrmu8udhyAdwkqNG'\n",
      "data = pd.read_excel(file_path)\n",
      "data.head()\n",
      "==========\n",
      "\n",
      "====Step message_creation\n",
      "Parece que houve um problema ao tentar ler o arquivo. Isso pode ter ocorrido porque o arquivo não está no formato Excel. Vou tentar abrir o arquivo como um arquivo CSV para verificar seu conteúdo. Vamos fazer isso agora.\n",
      "\n",
      "====Step tool_calls\n",
      "==========\n",
      "# Attempting to load the file as CSV to inspect its contents\n",
      "try:\n",
      "    data = pd.read_csv(file_path)\n",
      "    data.head()\n",
      "except Exception as e:\n",
      "    e\n",
      "==========\n",
      "\n",
      "====Step message_creation\n",
      "O arquivo parece estar vazio ou não contém dados no formato esperado. Você pode verificar se o arquivo enviado está correto ou tentar abri-lo para garantir que ele contém os dados necessários? Alternativamente, você pode tentar enviar o arquivo novamente.\n"
     ]
    }
   ],
   "source": [
    "for step in run_steps.data[::-1]:\n",
    "    print(f\"\\n====Step {step.step_details.type}\")\n",
    "    if step.step_details.type == \"tool_calls\":\n",
    "        for tool_call in step.step_details.tool_calls:\n",
    "            print(\"=\" *10)\n",
    "            print(tool_call.code_interpreter.input)\n",
    "            print(\"=\"*10)\n",
    "    if step.step_details.type == \"message_creation\":\n",
    "        message = client.beta.threads.messages.retrieve(\n",
    "            thread_id=thread.id,\n",
    "            message_id=step.step_details.message_creation.message_id\n",
    "        )\n",
    "        if message.content[0].type == \"text\":\n",
    "            print(message.content[0].text.value)\n",
    "        if message.content[0].type == \"image_file\":\n",
    "            file_id = message.content[0].image_file.file_id\n",
    "            image_data = client.files.content(file_id)\n",
    "            with open(f\"files/{file.id}.png\", \"wb\") as f:\n",
    "                f.write(image_data.read())\n",
    "                print(f\"Imagem {file_id} salva\")\n",
    "        \n",
    "        # print(message.content[0].text.value)\n"
   ]
  }
 ],
 "metadata": {
  "kernelspec": {
   "display_name": ".venv",
   "language": "python",
   "name": "python3"
  },
  "language_info": {
   "codemirror_mode": {
    "name": "ipython",
    "version": 3
   },
   "file_extension": ".py",
   "mimetype": "text/x-python",
   "name": "python",
   "nbconvert_exporter": "python",
   "pygments_lexer": "ipython3",
   "version": "3.12.7"
  }
 },
 "nbformat": 4,
 "nbformat_minor": 2
}

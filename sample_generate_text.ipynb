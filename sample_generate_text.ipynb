{
 "cells": [
  {
   "cell_type": "code",
   "execution_count": 5,
   "id": "543ca4e4",
   "metadata": {},
   "outputs": [],
   "source": [
    "import openai"
   ]
  },
  {
   "cell_type": "code",
   "execution_count": 6,
   "id": "dc396b6a",
   "metadata": {},
   "outputs": [],
   "source": [
    "client = openai.Client()"
   ]
  },
  {
   "cell_type": "markdown",
   "id": "55dc1d7d",
   "metadata": {},
   "source": [
    "### Fluxo de conversa\n",
    "- User: usuário que inicia a conversa\n",
    "- Assistant: Bot que responde a pergunta"
   ]
  },
  {
   "cell_type": "code",
   "execution_count": 7,
   "id": "8fd483ee",
   "metadata": {},
   "outputs": [
    {
     "name": "stdout",
     "output_type": "stream",
     "text": [
      "Artificial intelligence (AI) refers to the simulation of human intelligence processes by machines, especially computer systems. These processes include learning, reasoning, problem-solving, perception, and language understanding. AI is used in various applications such as speech recognition, natural language processing, image recognition, and decision-making.\n"
     ]
    }
   ],
   "source": [
    "message = [{\n",
    "    \"role\": \"user\", \n",
    "    \"content\": \"Define the term 'artificial intelligence'.\"\n",
    "}]\n",
    "\n",
    "respose = client.chat.completions.create(\n",
    "    model=\"gpt-3.5-turbo-0125\", \n",
    "    messages=message,\n",
    "    temperature=0,\n",
    "    max_tokens=1000\n",
    ")\n",
    "print(respose.choices[0].message.content)"
   ]
  },
  {
   "cell_type": "code",
   "execution_count": 8,
   "id": "6910681c",
   "metadata": {},
   "outputs": [],
   "source": [
    "message.append({\"role\":\"assistant\", \"content\":respose.choices[0].message.content})"
   ]
  },
  {
   "cell_type": "code",
   "execution_count": 9,
   "id": "9a8f6aca",
   "metadata": {},
   "outputs": [],
   "source": [
    "message.append({\n",
    "    \"role\": \"user\", \n",
    "    \"content\": \"What is 'AI'?\"})"
   ]
  },
  {
   "cell_type": "code",
   "execution_count": 10,
   "id": "48bf6130",
   "metadata": {},
   "outputs": [
    {
     "name": "stdout",
     "output_type": "stream",
     "text": [
      "AI is an abbreviation for artificial intelligence.\n"
     ]
    }
   ],
   "source": [
    "respose = client.chat.completions.create(\n",
    "    model=\"gpt-3.5-turbo-0125\", \n",
    "    messages=message,\n",
    "    temperature=0,\n",
    "    max_tokens=1000\n",
    ")\n",
    "print(respose.choices[0].message.content)"
   ]
  },
  {
   "cell_type": "code",
   "execution_count": 16,
   "id": "b50993c1",
   "metadata": {},
   "outputs": [],
   "source": [
    "### Usando função\n",
    "def get_response(message):\n",
    "    response = client.chat.completions.create(\n",
    "        model=\"gpt-3.5-turbo-0125\", \n",
    "        messages=message,\n",
    "        temperature=0,\n",
    "        max_tokens=1000\n",
    "    )\n",
    "    message.append({\"role\":\"assistant\", \"content\":response.choices[0].message.content})\n",
    "    return message"
   ]
  },
  {
   "cell_type": "code",
   "execution_count": 17,
   "id": "5ce268fb",
   "metadata": {},
   "outputs": [
    {
     "data": {
      "text/plain": [
       "[{'role': 'user', 'content': \"Define the term 'python language'.\"},\n",
       " {'role': 'assistant',\n",
       "  'content': 'Python is a high-level, interpreted programming language known for its simplicity and readability. It is widely used for web development, data analysis, artificial intelligence, scientific computing, and more. Python emphasizes code readability and simplicity, making it a popular choice for beginners and experienced programmers alike.'}]"
      ]
     },
     "execution_count": 17,
     "metadata": {},
     "output_type": "execute_result"
    }
   ],
   "source": [
    "msg1 = [{\n",
    "    \"role\": \"user\", \n",
    "    \"content\": \"Define the term 'python language'.\"\n",
    "}]\n",
    "\n",
    "msg1 = get_response(msg1)\n",
    "msg1"
   ]
  },
  {
   "cell_type": "markdown",
   "id": "6579b807",
   "metadata": {},
   "source": [
    "### Usando Stream"
   ]
  },
  {
   "cell_type": "code",
   "execution_count": 21,
   "id": "f723bc63",
   "metadata": {},
   "outputs": [
    {
     "name": "stdout",
     "output_type": "stream",
     "text": [
      "LLM era um jovem estudante de direito muito dedicado e esforçado. Desde pequeno, sonhava em se tornar um advogado renomado e ajudar as pessoas a obterem justiça.\n",
      "\n",
      "Durante seus anos de faculdade, LLM se destacou por sua inteligência e determinação. Sempre buscando se aprimorar, participava de cursos extracurriculares e estágios em escritórios de advocacia.\n",
      "\n",
      "Após se formar, LLM conseguiu uma vaga em um escritório renomado e logo se destacou por sua competência e ética profissional. Seus clientes o admiravam pela dedicação e empenho em resolver seus casos da melhor forma possível.\n",
      "\n",
      "Com o passar dos anos, LLM se tornou um advogado respeitado e reconhecido por sua integridade e comprometimento com a justiça. Seu nome era sinônimo de confiança e competência no meio jurídico.\n",
      "\n",
      "E assim, LLM realizou seu sonho de se tornar um advogado de sucesso, sempre lutando pelos direitos de seus clientes e pela justiça. Sua história inspirou muitos jovens a seguirem seus passos e acreditarem no poder da dedicação e do trabalho árduo.None"
     ]
    }
   ],
   "source": [
    "def get_response_with_stream(message):\n",
    "    response = client.chat.completions.create(\n",
    "        model=\"gpt-3.5-turbo-0125\", \n",
    "        messages=message,\n",
    "        temperature=0,\n",
    "        max_tokens=1000,\n",
    "        stream=True\n",
    "    )\n",
    "    \n",
    "    return response\n",
    "\n",
    "\n",
    "msg1 =[{\n",
    "    \"role\": \"user\", \n",
    "    \"content\": \"Conte uma história simples e objetiva sobre LLM\"\n",
    "}]\n",
    "\n",
    "response = get_response_with_stream(msg1)\n",
    "for response_stream in response:\n",
    "    print(response_stream.choices[0].delta.content, end='', flush=True)\n",
    "\n",
    "\n"
   ]
  }
 ],
 "metadata": {
  "kernelspec": {
   "display_name": ".venv",
   "language": "python",
   "name": "python3"
  },
  "language_info": {
   "codemirror_mode": {
    "name": "ipython",
    "version": 3
   },
   "file_extension": ".py",
   "mimetype": "text/x-python",
   "name": "python",
   "nbconvert_exporter": "python",
   "pygments_lexer": "ipython3",
   "version": "3.12.7"
  }
 },
 "nbformat": 4,
 "nbformat_minor": 5
}
